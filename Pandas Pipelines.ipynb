{
 "cells": [
  {
   "cell_type": "markdown",
   "metadata": {},
   "source": [
    "# Pandas Pipelines\n",
    "\n",
    "- The following notebook demonstrates how to create pandas pipelines by taking a small example of doing some basic data cleaning steps on the [Direct Marketing Amount Spent by Customers](https://www.kaggle.com/yoghurtpatil/direct-marketing) dataset available on kaggle datasets.\n",
    "\n",
    "\n",
    "- We'll first do some operations like creating copy of the dataframe, dropping missing data, removing outliers, and converting columns to categorical datatype step-by-step.\n",
    "\n",
    "- Then we'll replicate the same steps by creating a [Pandas pipeline](https://pandas.pydata.org/pandas-docs/stable/reference/api/pandas.DataFrame.pipe.html).\n",
    "\n",
    "<hr>"
   ]
  },
  {
   "cell_type": "code",
   "execution_count": 1,
   "metadata": {
    "ExecuteTime": {
     "end_time": "2021-01-17T07:53:57.520836Z",
     "start_time": "2021-01-17T07:53:56.810828Z"
    }
   },
   "outputs": [
    {
     "data": {
      "text/html": [
       "<div>\n",
       "<style scoped>\n",
       "    .dataframe tbody tr th:only-of-type {\n",
       "        vertical-align: middle;\n",
       "    }\n",
       "\n",
       "    .dataframe tbody tr th {\n",
       "        vertical-align: top;\n",
       "    }\n",
       "\n",
       "    .dataframe thead th {\n",
       "        text-align: right;\n",
       "    }\n",
       "</style>\n",
       "<table border=\"1\" class=\"dataframe\">\n",
       "  <thead>\n",
       "    <tr style=\"text-align: right;\">\n",
       "      <th></th>\n",
       "      <th>995</th>\n",
       "      <th>996</th>\n",
       "      <th>997</th>\n",
       "      <th>998</th>\n",
       "      <th>999</th>\n",
       "    </tr>\n",
       "  </thead>\n",
       "  <tbody>\n",
       "    <tr>\n",
       "      <th>Age</th>\n",
       "      <td>Young</td>\n",
       "      <td>Middle</td>\n",
       "      <td>Old</td>\n",
       "      <td>Middle</td>\n",
       "      <td>Young</td>\n",
       "    </tr>\n",
       "    <tr>\n",
       "      <th>Gender</th>\n",
       "      <td>Female</td>\n",
       "      <td>Male</td>\n",
       "      <td>Male</td>\n",
       "      <td>Male</td>\n",
       "      <td>Male</td>\n",
       "    </tr>\n",
       "    <tr>\n",
       "      <th>OwnHome</th>\n",
       "      <td>Rent</td>\n",
       "      <td>Rent</td>\n",
       "      <td>Own</td>\n",
       "      <td>Own</td>\n",
       "      <td>Rent</td>\n",
       "    </tr>\n",
       "    <tr>\n",
       "      <th>Married</th>\n",
       "      <td>Single</td>\n",
       "      <td>Single</td>\n",
       "      <td>Single</td>\n",
       "      <td>Married</td>\n",
       "      <td>Married</td>\n",
       "    </tr>\n",
       "    <tr>\n",
       "      <th>Location</th>\n",
       "      <td>Close</td>\n",
       "      <td>Far</td>\n",
       "      <td>Close</td>\n",
       "      <td>Close</td>\n",
       "      <td>Close</td>\n",
       "    </tr>\n",
       "    <tr>\n",
       "      <th>Salary</th>\n",
       "      <td>19400</td>\n",
       "      <td>40500</td>\n",
       "      <td>44800</td>\n",
       "      <td>79000</td>\n",
       "      <td>53600</td>\n",
       "    </tr>\n",
       "    <tr>\n",
       "      <th>Children</th>\n",
       "      <td>1</td>\n",
       "      <td>1</td>\n",
       "      <td>0</td>\n",
       "      <td>2</td>\n",
       "      <td>1</td>\n",
       "    </tr>\n",
       "    <tr>\n",
       "      <th>History</th>\n",
       "      <td>NaN</td>\n",
       "      <td>NaN</td>\n",
       "      <td>Medium</td>\n",
       "      <td>Medium</td>\n",
       "      <td>Medium</td>\n",
       "    </tr>\n",
       "    <tr>\n",
       "      <th>Catalogs</th>\n",
       "      <td>18</td>\n",
       "      <td>18</td>\n",
       "      <td>24</td>\n",
       "      <td>18</td>\n",
       "      <td>24</td>\n",
       "    </tr>\n",
       "    <tr>\n",
       "      <th>AmountSpent</th>\n",
       "      <td>384</td>\n",
       "      <td>1073</td>\n",
       "      <td>1417</td>\n",
       "      <td>671</td>\n",
       "      <td>973</td>\n",
       "    </tr>\n",
       "  </tbody>\n",
       "</table>\n",
       "</div>"
      ],
      "text/plain": [
       "                995     996     997      998      999\n",
       "Age           Young  Middle     Old   Middle    Young\n",
       "Gender       Female    Male    Male     Male     Male\n",
       "OwnHome        Rent    Rent     Own      Own     Rent\n",
       "Married      Single  Single  Single  Married  Married\n",
       "Location      Close     Far   Close    Close    Close\n",
       "Salary        19400   40500   44800    79000    53600\n",
       "Children          1       1       0        2        1\n",
       "History         NaN     NaN  Medium   Medium   Medium\n",
       "Catalogs         18      18      24       18       24\n",
       "AmountSpent     384    1073    1417      671      973"
      ]
     },
     "execution_count": 1,
     "metadata": {},
     "output_type": "execute_result"
    }
   ],
   "source": [
    "import numpy as np\n",
    "import pandas as pd\n",
    "\n",
    "df = pd.read_csv('data/DirectMarketing.csv')\n",
    "df.tail().T"
   ]
  },
  {
   "cell_type": "code",
   "execution_count": 2,
   "metadata": {
    "ExecuteTime": {
     "end_time": "2021-01-17T07:53:57.536826Z",
     "start_time": "2021-01-17T07:53:57.524833Z"
    }
   },
   "outputs": [],
   "source": [
    "copy_df = df.copy()"
   ]
  },
  {
   "cell_type": "code",
   "execution_count": 3,
   "metadata": {
    "ExecuteTime": {
     "end_time": "2021-01-17T07:53:57.568836Z",
     "start_time": "2021-01-17T07:53:57.539828Z"
    }
   },
   "outputs": [
    {
     "data": {
      "text/plain": [
       "Age             0.0\n",
       "Gender          0.0\n",
       "OwnHome         0.0\n",
       "Married         0.0\n",
       "Location        0.0\n",
       "Salary          0.0\n",
       "Children        0.0\n",
       "History        30.3\n",
       "Catalogs        0.0\n",
       "AmountSpent     0.0\n",
       "dtype: float64"
      ]
     },
     "execution_count": 3,
     "metadata": {},
     "output_type": "execute_result"
    }
   ],
   "source": [
    "copy_df.isna().sum() / len(copy_df) * 100"
   ]
  },
  {
   "cell_type": "code",
   "execution_count": 4,
   "metadata": {
    "ExecuteTime": {
     "end_time": "2021-01-17T07:53:57.600834Z",
     "start_time": "2021-01-17T07:53:57.572831Z"
    }
   },
   "outputs": [],
   "source": [
    "copy_df.dropna(axis=1, thresh=len(df) * 0.7, inplace=True)"
   ]
  },
  {
   "cell_type": "code",
   "execution_count": 5,
   "metadata": {
    "ExecuteTime": {
     "end_time": "2021-01-17T07:53:57.632839Z",
     "start_time": "2021-01-17T07:53:57.605831Z"
    }
   },
   "outputs": [],
   "source": [
    "low = np.quantile(copy_df['Salary'], 0.05)\n",
    "high = np.quantile(copy_df['Salary'], 0.95)\n",
    "\n",
    "copy_df = copy_df[copy_df['Salary'].between(low, high)]"
   ]
  },
  {
   "cell_type": "code",
   "execution_count": 6,
   "metadata": {
    "ExecuteTime": {
     "end_time": "2021-01-17T07:53:57.664826Z",
     "start_time": "2021-01-17T07:53:57.634828Z"
    }
   },
   "outputs": [
    {
     "name": "stdout",
     "output_type": "stream",
     "text": [
      "<class 'pandas.core.frame.DataFrame'>\n",
      "Int64Index: 900 entries, 0 to 999\n",
      "Data columns (total 9 columns):\n",
      " #   Column       Non-Null Count  Dtype \n",
      "---  ------       --------------  ----- \n",
      " 0   Age          900 non-null    object\n",
      " 1   Gender       900 non-null    object\n",
      " 2   OwnHome      900 non-null    object\n",
      " 3   Married      900 non-null    object\n",
      " 4   Location     900 non-null    object\n",
      " 5   Salary       900 non-null    int64 \n",
      " 6   Children     900 non-null    int64 \n",
      " 7   Catalogs     900 non-null    int64 \n",
      " 8   AmountSpent  900 non-null    int64 \n",
      "dtypes: int64(4), object(5)\n",
      "memory usage: 70.3+ KB\n"
     ]
    }
   ],
   "source": [
    "copy_df.info()"
   ]
  },
  {
   "cell_type": "code",
   "execution_count": 7,
   "metadata": {
    "ExecuteTime": {
     "end_time": "2021-01-17T07:53:57.712824Z",
     "start_time": "2021-01-17T07:53:57.668830Z"
    }
   },
   "outputs": [
    {
     "name": "stdout",
     "output_type": "stream",
     "text": [
      "Age: 0.0033333333333333335\n",
      "Gender: 0.0022222222222222222\n",
      "OwnHome: 0.0022222222222222222\n",
      "Married: 0.0022222222222222222\n",
      "Location: 0.0022222222222222222\n"
     ]
    }
   ],
   "source": [
    "for col in copy_df.select_dtypes(include='object').columns:\n",
    "    ratio = len(copy_df[col].value_counts()) / len(copy_df)\n",
    "    print(f'{col}: {ratio}')\n",
    "    copy_df[col] = copy_df[col].astype(\n",
    "        'category') if ratio < 0.05 else copy_df[col]"
   ]
  },
  {
   "cell_type": "code",
   "execution_count": 8,
   "metadata": {
    "ExecuteTime": {
     "end_time": "2021-01-17T07:53:57.743956Z",
     "start_time": "2021-01-17T07:53:57.716832Z"
    }
   },
   "outputs": [
    {
     "name": "stdout",
     "output_type": "stream",
     "text": [
      "<class 'pandas.core.frame.DataFrame'>\n",
      "Int64Index: 900 entries, 0 to 999\n",
      "Data columns (total 9 columns):\n",
      " #   Column       Non-Null Count  Dtype   \n",
      "---  ------       --------------  -----   \n",
      " 0   Age          900 non-null    category\n",
      " 1   Gender       900 non-null    category\n",
      " 2   OwnHome      900 non-null    category\n",
      " 3   Married      900 non-null    category\n",
      " 4   Location     900 non-null    category\n",
      " 5   Salary       900 non-null    int64   \n",
      " 6   Children     900 non-null    int64   \n",
      " 7   Catalogs     900 non-null    int64   \n",
      " 8   AmountSpent  900 non-null    int64   \n",
      "dtypes: category(5), int64(4)\n",
      "memory usage: 40.0 KB\n"
     ]
    }
   ],
   "source": [
    "copy_df.info()"
   ]
  },
  {
   "cell_type": "markdown",
   "metadata": {},
   "source": [
    "<hr>\n",
    "\n",
    "- In above cells, we have created a copy of the original dataframe, dropped columns containing more than 30% missing data, removed outliers by only keeping between 5th and 95th percentile values of the **Salary** column, and finally converted objects datatype columns containing categories which are less than 5% of the entire dataset size.\n",
    "\n",
    "\n",
    "- Now, we'll create separate functions for all of the above steps and use **Pandas.DataFrame.pipe** method to create a pandas pipeline.\n",
    "\n",
    "<hr>"
   ]
  },
  {
   "cell_type": "code",
   "execution_count": 9,
   "metadata": {
    "ExecuteTime": {
     "end_time": "2021-01-17T07:53:57.774830Z",
     "start_time": "2021-01-17T07:53:57.751839Z"
    }
   },
   "outputs": [],
   "source": [
    "def make_copy(df):\n",
    "    print('Making copy...')\n",
    "    return df.copy()\n",
    "\n",
    "\n",
    "def drop_missing(df):\n",
    "    print('Dropping columns with more than 30% missing data...')\n",
    "    return df.dropna(axis=1, thresh=len(df) * 0.7)\n",
    "\n",
    "\n",
    "def remove_outliers(df, col_name):\n",
    "    low = np.quantile(a=df[col_name], q=0.05)\n",
    "    high = np.quantile(a=df[col_name], q=0.95)\n",
    "    print('Removing outliers by keeping 5th and 95th percentile values...')\n",
    "    return df[df[col_name].between(low, high, inclusive=True)]\n",
    "\n",
    "\n",
    "def convert_to_categories(df):\n",
    "    print(\n",
    "        'Converting columns with less than 5% categories of the entire dataset size...'\n",
    "    )\n",
    "    for col in df.select_dtypes(include='object').columns:\n",
    "        ratio = len(df[col].value_counts()) / len(df)\n",
    "        df[col] = df[col].astype('category') if ratio < 0.05 else df[col]\n",
    "    return df"
   ]
  },
  {
   "cell_type": "code",
   "execution_count": 10,
   "metadata": {
    "ExecuteTime": {
     "end_time": "2021-01-17T07:53:57.820839Z",
     "start_time": "2021-01-17T07:53:57.780833Z"
    }
   },
   "outputs": [
    {
     "name": "stdout",
     "output_type": "stream",
     "text": [
      "Making copy...\n",
      "Dropping columns with more than 30% missing data...\n",
      "Removing outliers by keeping 5th and 95th percentile values...\n",
      "Converting columns with less than 5% categories of the entire dataset size...\n"
     ]
    }
   ],
   "source": [
    "df_cleaned = (\n",
    "    df.pipe(\n",
    "        make_copy\n",
    "    ).pipe(\n",
    "        drop_missing\n",
    "    ).pipe(\n",
    "        remove_outliers, 'Salary'\n",
    "    ).pipe(\n",
    "        convert_to_categories)\n",
    ")"
   ]
  },
  {
   "cell_type": "code",
   "execution_count": 11,
   "metadata": {
    "ExecuteTime": {
     "end_time": "2021-01-17T07:53:57.866828Z",
     "start_time": "2021-01-17T07:53:57.823828Z"
    }
   },
   "outputs": [
    {
     "data": {
      "text/html": [
       "<div>\n",
       "<style scoped>\n",
       "    .dataframe tbody tr th:only-of-type {\n",
       "        vertical-align: middle;\n",
       "    }\n",
       "\n",
       "    .dataframe tbody tr th {\n",
       "        vertical-align: top;\n",
       "    }\n",
       "\n",
       "    .dataframe thead th {\n",
       "        text-align: right;\n",
       "    }\n",
       "</style>\n",
       "<table border=\"1\" class=\"dataframe\">\n",
       "  <thead>\n",
       "    <tr style=\"text-align: right;\">\n",
       "      <th></th>\n",
       "      <th>Age</th>\n",
       "      <th>Gender</th>\n",
       "      <th>OwnHome</th>\n",
       "      <th>Married</th>\n",
       "      <th>Location</th>\n",
       "      <th>Salary</th>\n",
       "      <th>Children</th>\n",
       "      <th>History</th>\n",
       "      <th>Catalogs</th>\n",
       "      <th>AmountSpent</th>\n",
       "    </tr>\n",
       "  </thead>\n",
       "  <tbody>\n",
       "    <tr>\n",
       "      <th>995</th>\n",
       "      <td>Young</td>\n",
       "      <td>Female</td>\n",
       "      <td>Rent</td>\n",
       "      <td>Single</td>\n",
       "      <td>Close</td>\n",
       "      <td>19400</td>\n",
       "      <td>1</td>\n",
       "      <td>NaN</td>\n",
       "      <td>18</td>\n",
       "      <td>384</td>\n",
       "    </tr>\n",
       "    <tr>\n",
       "      <th>996</th>\n",
       "      <td>Middle</td>\n",
       "      <td>Male</td>\n",
       "      <td>Rent</td>\n",
       "      <td>Single</td>\n",
       "      <td>Far</td>\n",
       "      <td>40500</td>\n",
       "      <td>1</td>\n",
       "      <td>NaN</td>\n",
       "      <td>18</td>\n",
       "      <td>1073</td>\n",
       "    </tr>\n",
       "    <tr>\n",
       "      <th>997</th>\n",
       "      <td>Old</td>\n",
       "      <td>Male</td>\n",
       "      <td>Own</td>\n",
       "      <td>Single</td>\n",
       "      <td>Close</td>\n",
       "      <td>44800</td>\n",
       "      <td>0</td>\n",
       "      <td>Medium</td>\n",
       "      <td>24</td>\n",
       "      <td>1417</td>\n",
       "    </tr>\n",
       "    <tr>\n",
       "      <th>998</th>\n",
       "      <td>Middle</td>\n",
       "      <td>Male</td>\n",
       "      <td>Own</td>\n",
       "      <td>Married</td>\n",
       "      <td>Close</td>\n",
       "      <td>79000</td>\n",
       "      <td>2</td>\n",
       "      <td>Medium</td>\n",
       "      <td>18</td>\n",
       "      <td>671</td>\n",
       "    </tr>\n",
       "    <tr>\n",
       "      <th>999</th>\n",
       "      <td>Young</td>\n",
       "      <td>Male</td>\n",
       "      <td>Rent</td>\n",
       "      <td>Married</td>\n",
       "      <td>Close</td>\n",
       "      <td>53600</td>\n",
       "      <td>1</td>\n",
       "      <td>Medium</td>\n",
       "      <td>24</td>\n",
       "      <td>973</td>\n",
       "    </tr>\n",
       "  </tbody>\n",
       "</table>\n",
       "</div>"
      ],
      "text/plain": [
       "        Age  Gender OwnHome  Married Location  Salary  Children History  \\\n",
       "995   Young  Female    Rent   Single    Close   19400         1     NaN   \n",
       "996  Middle    Male    Rent   Single      Far   40500         1     NaN   \n",
       "997     Old    Male     Own   Single    Close   44800         0  Medium   \n",
       "998  Middle    Male     Own  Married    Close   79000         2  Medium   \n",
       "999   Young    Male    Rent  Married    Close   53600         1  Medium   \n",
       "\n",
       "     Catalogs  AmountSpent  \n",
       "995        18          384  \n",
       "996        18         1073  \n",
       "997        24         1417  \n",
       "998        18          671  \n",
       "999        24          973  "
      ]
     },
     "execution_count": 11,
     "metadata": {},
     "output_type": "execute_result"
    }
   ],
   "source": [
    "df.tail()"
   ]
  },
  {
   "cell_type": "code",
   "execution_count": 12,
   "metadata": {
    "ExecuteTime": {
     "end_time": "2021-01-17T07:53:57.898830Z",
     "start_time": "2021-01-17T07:53:57.870827Z"
    }
   },
   "outputs": [
    {
     "data": {
      "text/html": [
       "<div>\n",
       "<style scoped>\n",
       "    .dataframe tbody tr th:only-of-type {\n",
       "        vertical-align: middle;\n",
       "    }\n",
       "\n",
       "    .dataframe tbody tr th {\n",
       "        vertical-align: top;\n",
       "    }\n",
       "\n",
       "    .dataframe thead th {\n",
       "        text-align: right;\n",
       "    }\n",
       "</style>\n",
       "<table border=\"1\" class=\"dataframe\">\n",
       "  <thead>\n",
       "    <tr style=\"text-align: right;\">\n",
       "      <th></th>\n",
       "      <th>Age</th>\n",
       "      <th>Gender</th>\n",
       "      <th>OwnHome</th>\n",
       "      <th>Married</th>\n",
       "      <th>Location</th>\n",
       "      <th>Salary</th>\n",
       "      <th>Children</th>\n",
       "      <th>Catalogs</th>\n",
       "      <th>AmountSpent</th>\n",
       "    </tr>\n",
       "  </thead>\n",
       "  <tbody>\n",
       "    <tr>\n",
       "      <th>995</th>\n",
       "      <td>Young</td>\n",
       "      <td>Female</td>\n",
       "      <td>Rent</td>\n",
       "      <td>Single</td>\n",
       "      <td>Close</td>\n",
       "      <td>19400</td>\n",
       "      <td>1</td>\n",
       "      <td>18</td>\n",
       "      <td>384</td>\n",
       "    </tr>\n",
       "    <tr>\n",
       "      <th>996</th>\n",
       "      <td>Middle</td>\n",
       "      <td>Male</td>\n",
       "      <td>Rent</td>\n",
       "      <td>Single</td>\n",
       "      <td>Far</td>\n",
       "      <td>40500</td>\n",
       "      <td>1</td>\n",
       "      <td>18</td>\n",
       "      <td>1073</td>\n",
       "    </tr>\n",
       "    <tr>\n",
       "      <th>997</th>\n",
       "      <td>Old</td>\n",
       "      <td>Male</td>\n",
       "      <td>Own</td>\n",
       "      <td>Single</td>\n",
       "      <td>Close</td>\n",
       "      <td>44800</td>\n",
       "      <td>0</td>\n",
       "      <td>24</td>\n",
       "      <td>1417</td>\n",
       "    </tr>\n",
       "    <tr>\n",
       "      <th>998</th>\n",
       "      <td>Middle</td>\n",
       "      <td>Male</td>\n",
       "      <td>Own</td>\n",
       "      <td>Married</td>\n",
       "      <td>Close</td>\n",
       "      <td>79000</td>\n",
       "      <td>2</td>\n",
       "      <td>18</td>\n",
       "      <td>671</td>\n",
       "    </tr>\n",
       "    <tr>\n",
       "      <th>999</th>\n",
       "      <td>Young</td>\n",
       "      <td>Male</td>\n",
       "      <td>Rent</td>\n",
       "      <td>Married</td>\n",
       "      <td>Close</td>\n",
       "      <td>53600</td>\n",
       "      <td>1</td>\n",
       "      <td>24</td>\n",
       "      <td>973</td>\n",
       "    </tr>\n",
       "  </tbody>\n",
       "</table>\n",
       "</div>"
      ],
      "text/plain": [
       "        Age  Gender OwnHome  Married Location  Salary  Children  Catalogs  \\\n",
       "995   Young  Female    Rent   Single    Close   19400         1        18   \n",
       "996  Middle    Male    Rent   Single      Far   40500         1        18   \n",
       "997     Old    Male     Own   Single    Close   44800         0        24   \n",
       "998  Middle    Male     Own  Married    Close   79000         2        18   \n",
       "999   Young    Male    Rent  Married    Close   53600         1        24   \n",
       "\n",
       "     AmountSpent  \n",
       "995          384  \n",
       "996         1073  \n",
       "997         1417  \n",
       "998          671  \n",
       "999          973  "
      ]
     },
     "execution_count": 12,
     "metadata": {},
     "output_type": "execute_result"
    }
   ],
   "source": [
    "df_cleaned.tail()"
   ]
  },
  {
   "cell_type": "code",
   "execution_count": 13,
   "metadata": {
    "ExecuteTime": {
     "end_time": "2021-01-17T07:53:57.946832Z",
     "start_time": "2021-01-17T07:53:57.905833Z"
    }
   },
   "outputs": [
    {
     "name": "stdout",
     "output_type": "stream",
     "text": [
      "<class 'pandas.core.frame.DataFrame'>\n",
      "RangeIndex: 1000 entries, 0 to 999\n",
      "Data columns (total 10 columns):\n",
      " #   Column       Non-Null Count  Dtype \n",
      "---  ------       --------------  ----- \n",
      " 0   Age          1000 non-null   object\n",
      " 1   Gender       1000 non-null   object\n",
      " 2   OwnHome      1000 non-null   object\n",
      " 3   Married      1000 non-null   object\n",
      " 4   Location     1000 non-null   object\n",
      " 5   Salary       1000 non-null   int64 \n",
      " 6   Children     1000 non-null   int64 \n",
      " 7   History      697 non-null    object\n",
      " 8   Catalogs     1000 non-null   int64 \n",
      " 9   AmountSpent  1000 non-null   int64 \n",
      "dtypes: int64(4), object(6)\n",
      "memory usage: 78.2+ KB\n",
      "<class 'pandas.core.frame.DataFrame'>\n",
      "Int64Index: 900 entries, 0 to 999\n",
      "Data columns (total 9 columns):\n",
      " #   Column       Non-Null Count  Dtype   \n",
      "---  ------       --------------  -----   \n",
      " 0   Age          900 non-null    category\n",
      " 1   Gender       900 non-null    category\n",
      " 2   OwnHome      900 non-null    category\n",
      " 3   Married      900 non-null    category\n",
      " 4   Location     900 non-null    category\n",
      " 5   Salary       900 non-null    int64   \n",
      " 6   Children     900 non-null    int64   \n",
      " 7   Catalogs     900 non-null    int64   \n",
      " 8   AmountSpent  900 non-null    int64   \n",
      "dtypes: category(5), int64(4)\n",
      "memory usage: 40.0 KB\n"
     ]
    },
    {
     "data": {
      "text/plain": [
       "(None, None)"
      ]
     },
     "execution_count": 13,
     "metadata": {},
     "output_type": "execute_result"
    }
   ],
   "source": [
    "df.info(), df_cleaned.info()"
   ]
  },
  {
   "cell_type": "code",
   "execution_count": null,
   "metadata": {},
   "outputs": [],
   "source": []
  }
 ],
 "metadata": {
  "kernelspec": {
   "display_name": "Python 3",
   "language": "python",
   "name": "python3"
  },
  "language_info": {
   "codemirror_mode": {
    "name": "ipython",
    "version": 3
   },
   "file_extension": ".py",
   "mimetype": "text/x-python",
   "name": "python",
   "nbconvert_exporter": "python",
   "pygments_lexer": "ipython3",
   "version": "3.7.7"
  }
 },
 "nbformat": 4,
 "nbformat_minor": 4
}
